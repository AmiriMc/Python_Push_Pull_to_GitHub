{
 "cells": [
  {
   "cell_type": "code",
   "execution_count": 1,
   "metadata": {},
   "outputs": [],
   "source": [
    "#pip install PyGithub"
   ]
  },
  {
   "cell_type": "code",
   "execution_count": 1,
   "metadata": {},
   "outputs": [],
   "source": [
    "from github import Github\n",
    "from github import InputGitTreeElement\n",
    "import base64"
   ]
  },
  {
   "cell_type": "code",
   "execution_count": 2,
   "metadata": {},
   "outputs": [],
   "source": [
    "# GitHub authentication\n",
    "g = Github(\"username\", \"password\")"
   ]
  },
  {
   "cell_type": "code",
   "execution_count": null,
   "metadata": {},
   "outputs": [],
   "source": [
    "# get list of repos\n",
    "for repo in g.get_user().get_repos():\n",
    "    print(repo.name)"
   ]
  },
  {
   "cell_type": "code",
   "execution_count": null,
   "metadata": {},
   "outputs": [],
   "source": [
    "# get number of public/private repos\n",
    "print('Number of public repos: {}'.format(g.get_user().public_repos))\n",
    "print('Number of private repos: {}'.format(g.get_user().total_private_repos))"
   ]
  },
  {
   "cell_type": "code",
   "execution_count": null,
   "metadata": {},
   "outputs": [],
   "source": [
    "# create new repo; name = new repo name, description = new repo description.\n",
    "repo = g.get_user().create_repo(\n",
    "    name='Data_Engineering_Data_Modeling_with_Postgres',\n",
    "    description = 'The goal of this project was to model user activity data of the music company \"Sparkify\" \\\n",
    "    to create a database and ETL pipeline in Postgres using Python.'\n",
    "    )\n",
    "\n",
    "'''\n",
    "Could also do it like this:\n",
    "g = Github(token)\n",
    "user = g.get_user()\n",
    "repo = user.create_repo(full_name)\n",
    "'''"
   ]
  },
  {
   "cell_type": "code",
   "execution_count": 14,
   "metadata": {},
   "outputs": [],
   "source": [
    "# commits file(s) to your existing repo in GitHub\n",
    "\n",
    "user = \"GithubUsername\"\n",
    "password = \"*********\"\n",
    "g = Github('username', 'password')\n",
    "repo = g.get_user().get_repo('Data_Engineering_Data_Modeling_with_Postgres')\n",
    "file_list = [\n",
    "    r'C:\\Users\\amiri\\OneDrive\\Education\\Udacity - DEND\\Data_Engineering_Data_Modeling_with_Postgres\\create_tables.py',\\\n",
    "    r'C:\\Users\\amiri\\OneDrive\\Education\\Udacity - DEND\\Data_Engineering_Data_Modeling_with_Postgres\\etl.ipynb',\\\n",
    "    r'C:\\Users\\amiri\\OneDrive\\Education\\Udacity - DEND\\Data_Engineering_Data_Modeling_with_Postgres\\etl.py',\\\n",
    "    r'C:\\Users\\amiri\\OneDrive\\Education\\Udacity - DEND\\Data_Engineering_Data_Modeling_with_Postgres\\sql_queries.py',\\\n",
    "    r'C:\\Users\\amiri\\OneDrive\\Education\\Udacity - DEND\\Data_Engineering_Data_Modeling_with_Postgres\\test.ipynb'\n",
    "    \n",
    "]\n",
    "\n",
    "file_names = [\n",
    "    'create_tables.py', 'etl.ipynb', 'etl.py', 'sql_queries.py', 'test.ipynb'\n",
    "]\n",
    "commit_message = 'Initial version.'\n",
    "master_ref = repo.get_git_ref('heads/master')\n",
    "master_sha = master_ref.object.sha\n",
    "base_tree = repo.get_git_tree(master_sha)\n",
    "element_list = list()\n",
    "\n",
    "for i, entry in enumerate(file_list):\n",
    "    with open(entry) as input_file:\n",
    "        data = input_file.read()\n",
    "    \n",
    "    if entry.endswith('.png'):\n",
    "        data = base64.b64encode(data)     \n",
    "    element = InputGitTreeElement(file_names[i], '100644', 'blob', data)\n",
    "    element_list.append(element)\n",
    "\n",
    "tree = repo.create_git_tree(element_list, base_tree)\n",
    "parent = repo.get_git_commit(master_sha)\n",
    "commit = repo.create_git_commit(commit_message, tree, [parent])\n",
    "master_ref.edit(commit.sha)"
   ]
  },
  {
   "cell_type": "code",
   "execution_count": null,
   "metadata": {},
   "outputs": [],
   "source": [
    "# Was able to programmatically create a repo, but had trouble programmatically adding files to it when it was empty\n",
    "# Was able to add files without error, once it already had files in it."
   ]
  }
 ],
 "metadata": {
  "kernelspec": {
   "display_name": "Python 3",
   "language": "python",
   "name": "python3"
  },
  "language_info": {
   "codemirror_mode": {
    "name": "ipython",
    "version": 3
   },
   "file_extension": ".py",
   "mimetype": "text/x-python",
   "name": "python",
   "nbconvert_exporter": "python",
   "pygments_lexer": "ipython3",
   "version": "3.7.4"
  }
 },
 "nbformat": 4,
 "nbformat_minor": 2
}
